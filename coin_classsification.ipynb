{
 "cells": [
  {
   "cell_type": "code",
   "execution_count": null,
   "source": [
    "DATADIR = \"/content/gdrive/My Drive/para\" \r\n",
    "Categories = [\"1on\",\"50on\",\"1arka\",\"50arka\",\"25on\",\"25arka\",\"background\"] \r\n",
    "import os\r\n",
    "import cv2\r\n",
    "x = []\r\n",
    "y = []\r\n",
    "for category in Categories:\r\n",
    "  path = os.path.join(DATADIR,category)\r\n",
    "  print(path)\r\n",
    "  os.chdir(path) \r\n",
    "  label = Categories.index(category)  #etiket\r\n",
    "  for im in os.listdir(path):\r\n",
    "      try:\r\n",
    "          img = cv2.imread(im,cv2.IMREAD_COLOR)\r\n",
    "          img = cv2.cvtColor(img, cv2.COLOR_BGR2RGB)\r\n",
    "          x.append(img)\r\n",
    "          y.append(label)\r\n",
    "      except Exception as e:\r\n",
    "          pass"
   ],
   "outputs": [],
   "metadata": {}
  },
  {
   "cell_type": "code",
   "execution_count": null,
   "source": [
    "height,width = x[0].shape[:2]\r\n",
    "print(width,height)\r\n",
    "\r\n",
    "import numpy as np\r\n",
    "x = np.array(x)\r\n",
    "y = np.array(y)\r\n",
    "x = x.astype(np.float32) #to save space \r\n",
    "x = x/255#This ensures that all the values are between 0 and 1\r\n",
    "print(len(x))\r\n",
    "print(\"0\",np.sum(y == 0)) \r\n",
    "print(\"1\",np.sum(y == 1))\r\n",
    "from sklearn.model_selection import train_test_split\r\n",
    "x_train, x_test, y_train, y_test = train_test_split(x,y,test_size=0.15,shuffle=True)\r\n",
    "x_train,x_val,y_train,y_val = train_test_split(x_train,y_train,test_size=0.25,shuffle=True)\r\n",
    "print(len(x_train))\r\n",
    "print(len(x_val))\r\n",
    "print(len(x_test))"
   ],
   "outputs": [],
   "metadata": {}
  },
  {
   "cell_type": "code",
   "execution_count": null,
   "source": [
    "#one hot encoding\r\n",
    "#0 [0 0]\r\n",
    "#1 [0 1] ...\r\n",
    "from keras.utils import to_categorical\r\n",
    "y_train_one_hot = to_categorical(y_train)\r\n",
    "y_test_one_hot = to_categorical(y_test)\r\n",
    "y_val_one_hot = to_categorical(y_val)\r\n",
    "\r\n",
    "print(y_train_one_hot)\r\n",
    "\r\n",
    "height,width = x[0].shape[:2]\r\n",
    "print(width,height)"
   ],
   "outputs": [],
   "metadata": {}
  },
  {
   "cell_type": "code",
   "execution_count": null,
   "source": [
    "from keras.applications import InceptionV3\r\n",
    "inception = InceptionV3(\r\n",
    "    weights='imagenet',\r\n",
    "    include_top=False,\r\n",
    "    input_shape=(width,height,3)\r\n",
    ")\r\n",
    "\r\n",
    "from keras import layers\r\n",
    "from keras.callbacks import Callback, ModelCheckpoint\r\n",
    "from keras.models import Sequential\r\n",
    "from keras.optimizers import Adam\r\n",
    "def build_model(backbone):\r\n",
    "    model = Sequential() #katman katman model oluşturmak için\r\n",
    "    model.add(backbone) #inception modelini ekleme\r\n",
    "    model.add(layers.GlobalAveragePooling2D()) #çıktıları vektör haline getirme\r\n",
    "    model.add(layers.Dropout(0.5)) #overfittingi engellemek için nöron elemesi\r\n",
    "    model.add(layers.Dense(2, activation='softmax')) #sınıflandırma katmanı \r\n",
    "\r\n",
    "    model.compile(\r\n",
    "        loss='categorical_crossentropy', \r\n",
    "        optimizer='adam',\r\n",
    "        metrics=['accuracy']\r\n",
    "    )\r\n",
    "    \r\n",
    "    return model"
   ],
   "outputs": [],
   "metadata": {}
  },
  {
   "cell_type": "code",
   "execution_count": null,
   "source": [
    "model = build_model(inception)\r\n",
    "model.summary()"
   ],
   "outputs": [],
   "metadata": {}
  },
  {
   "cell_type": "code",
   "execution_count": null,
   "source": [
    "BATCH_SIZE = 16\r\n",
    "from keras.preprocessing.image import ImageDataGenerator\r\n",
    "train_generator = ImageDataGenerator(\r\n",
    "        rotation_range = 90,\r\n",
    "        horizontal_flip=True,  # randomly flip images\r\n",
    "        vertical_flip=True,  # randomly flip images\r\n",
    "    )"
   ],
   "outputs": [],
   "metadata": {}
  },
  {
   "cell_type": "code",
   "execution_count": null,
   "source": [
    "model_checkpoint = ModelCheckpoint('/content/gdrive/My Drive/models/coin3.h5', monitor='val_loss', mode='min', verbose=1, save_best_only=True)\r\n",
    "history = model.fit_generator(\r\n",
    "    train_generator.flow(x_train, y_train_one_hot, batch_size=BATCH_SIZE),\r\n",
    "    steps_per_epoch=x_train.shape[0] / BATCH_SIZE,\r\n",
    "    epochs=50,\r\n",
    "    validation_data=(x_val, y_val_one_hot),\r\n",
    "    callbacks=[ model_checkpoint]\r\n",
    ")"
   ],
   "outputs": [],
   "metadata": {}
  },
  {
   "cell_type": "code",
   "execution_count": null,
   "source": [
    "print(model.metrics_names)\r\n",
    "print(model.evaluate(x_val, y_val_one_hot))\r\n",
    "from sklearn import metrics\r\n",
    "y_pred_one_hot = model.predict(x_val)\r\n",
    "y_pred_labels = np.argmax(y_pred_one_hot, axis = 1)\r\n",
    "y_true_labels = np.argmax(y_val_one_hot,axis=1)\r\n",
    "confusion_matrix = metrics.confusion_matrix(y_true=y_true_labels, y_pred=y_pred_labels)\r\n",
    "print(confusion_matrix)"
   ],
   "outputs": [],
   "metadata": {}
  },
  {
   "cell_type": "code",
   "execution_count": null,
   "source": [
    "import matplotlib.pyplot as plt\r\n",
    "import numpy as np \r\n",
    "img = cv2.imread(\"/content/gdrive/My Drive/para/test_2.jpg\",cv2.IMREAD_COLOR)\r\n",
    "img = cv2.cvtColor(img, cv2.COLOR_BGR2RGB)\r\n",
    "plt.imshow(img)\r\n",
    "plt.show()\r\n",
    "gray = cv2.cvtColor(img, cv2.COLOR_RGB2GRAY)\r\n",
    "plt.imshow(gray, cmap = \"gray\")\r\n",
    "plt.show()\r\n",
    "all_circles = cv2.HoughCircles(gray, cv2.HOUGH_GRADIENT,0.9,120,param2 = 30,minRadius = 0, maxRadius = 200 )"
   ],
   "outputs": [],
   "metadata": {}
  },
  {
   "cell_type": "code",
   "execution_count": null,
   "source": [
    "from google.colab.patches import cv2_imshow\r\n",
    "\r\n",
    "circles = cv2.HoughCircles(gray, cv2.HOUGH_GRADIENT, 1.2, 100)\r\n",
    "if circles is not None:\r\n",
    "    output = img.copy()\r\n",
    "    circles = np.round(circles[0, :]).astype(\"int\")\r\n",
    "    print(circles)\r\n",
    "    for (x, y, r) in circles:\r\n",
    "        crop=img[(y - r):(y + r),(x - r):(x + r)]\r\n",
    "        crop = cv2.resize(crop,(width, height))\r\n",
    "        plt.imshow(crop)\r\n",
    "        plt.show()"
   ],
   "outputs": [],
   "metadata": {}
  },
  {
   "cell_type": "code",
   "execution_count": null,
   "source": [
    "y_pred_one_hot = model.predict(np.array([crop, ]))\r\n",
    "print(y_pred_one_hot)\r\n",
    "y_true_labels = np.argmax(y_pred_one_hot,axis=1)\r\n",
    "index = y_true_labels[0]\r\n",
    "print(Categories[index])"
   ],
   "outputs": [],
   "metadata": {}
  }
 ],
 "metadata": {
  "orig_nbformat": 4,
  "language_info": {
   "name": "python"
  }
 },
 "nbformat": 4,
 "nbformat_minor": 2
}